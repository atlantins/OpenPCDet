{
 "cells": [
  {
   "cell_type": "code",
   "execution_count": 3,
   "metadata": {},
   "outputs": [],
   "source": [
    "from easydict import EasyDict\n",
    "import yaml\n",
    "from pprint import pprint"
   ]
  },
  {
   "cell_type": "code",
   "execution_count": 4,
   "metadata": {},
   "outputs": [],
   "source": [
    "path = '../tools/cfgs/dataset_configs/kitti_dataset.yaml'\n",
    "yaml_file = yaml.safe_load(open(path))\n"
   ]
  },
  {
   "cell_type": "code",
   "execution_count": 5,
   "metadata": {},
   "outputs": [
    {
     "data": {
      "text/plain": [
       "{'DATASET': 'KittiDataset',\n",
       " 'DATA_PATH': '../data/kitti',\n",
       " 'POINT_CLOUD_RANGE': [0, -40, -3, 70.4, 40, 1],\n",
       " 'DATA_SPLIT': {'train': 'train', 'test': 'val'},\n",
       " 'INFO_PATH': {'train': ['kitti_infos_train.pkl'],\n",
       "  'test': ['kitti_infos_val.pkl']},\n",
       " 'GET_ITEM_LIST': ['points'],\n",
       " 'FOV_POINTS_ONLY': True,\n",
       " 'DATA_AUGMENTOR': {'DISABLE_AUG_LIST': ['placeholder'],\n",
       "  'AUG_CONFIG_LIST': [{'NAME': 'gt_sampling',\n",
       "    'USE_ROAD_PLANE': False,\n",
       "    'DB_INFO_PATH': ['kitti_dbinfos_train.pkl'],\n",
       "    'PREPARE': {'filter_by_min_points': ['Car:5', 'Pedestrian:5', 'Cyclist:5'],\n",
       "     'filter_by_difficulty': [-1]},\n",
       "    'SAMPLE_GROUPS': ['Car:20', 'Pedestrian:15', 'Cyclist:15'],\n",
       "    'NUM_POINT_FEATURES': 4,\n",
       "    'DATABASE_WITH_FAKELIDAR': False,\n",
       "    'REMOVE_EXTRA_WIDTH': [0.0, 0.0, 0.0],\n",
       "    'LIMIT_WHOLE_SCENE': True},\n",
       "   {'NAME': 'random_world_flip', 'ALONG_AXIS_LIST': ['x']},\n",
       "   {'NAME': 'random_world_rotation',\n",
       "    'WORLD_ROT_ANGLE': [-0.78539816, 0.78539816]},\n",
       "   {'NAME': 'random_world_scaling', 'WORLD_SCALE_RANGE': [0.95, 1.05]}]},\n",
       " 'POINT_FEATURE_ENCODING': {'encoding_type': 'absolute_coordinates_encoding',\n",
       "  'used_feature_list': ['x', 'y', 'z', 'intensity'],\n",
       "  'src_feature_list': ['x', 'y', 'z', 'intensity']},\n",
       " 'DATA_PROCESSOR': [{'NAME': 'mask_points_and_boxes_outside_range',\n",
       "   'REMOVE_OUTSIDE_BOXES': True},\n",
       "  {'NAME': 'shuffle_points',\n",
       "   'SHUFFLE_ENABLED': {'train': True, 'test': False}},\n",
       "  {'NAME': 'transform_points_to_voxels',\n",
       "   'VOXEL_SIZE': [0.05, 0.05, 0.1],\n",
       "   'MAX_POINTS_PER_VOXEL': 5,\n",
       "   'MAX_NUMBER_OF_VOXELS': {'train': 16000, 'test': 40000}}]}"
      ]
     },
     "execution_count": 5,
     "metadata": {},
     "output_type": "execute_result"
    }
   ],
   "source": [
    "yaml_file"
   ]
  },
  {
   "cell_type": "code",
   "execution_count": 6,
   "metadata": {},
   "outputs": [
    {
     "data": {
      "text/plain": [
       "dict"
      ]
     },
     "execution_count": 6,
     "metadata": {},
     "output_type": "execute_result"
    }
   ],
   "source": [
    "type(yaml_file)"
   ]
  },
  {
   "cell_type": "code",
   "execution_count": null,
   "metadata": {},
   "outputs": [],
   "source": [
    "dataset_cfg = EasyDict(yaml.safe_load(open(path)))"
   ]
  },
  {
   "cell_type": "code",
   "execution_count": 9,
   "metadata": {},
   "outputs": [
    {
     "data": {
      "text/plain": [
       "{'DATASET': 'KittiDataset', 'DATA_PATH': '../data/kitti', 'POINT_CLOUD_RANGE': [0, -40, -3, 70.4, 40, 1], 'DATA_SPLIT': {'train': 'train', 'test': 'val'}, 'INFO_PATH': {'train': ['kitti_infos_train.pkl'], 'test': ['kitti_infos_val.pkl']}, 'GET_ITEM_LIST': ['points'], 'FOV_POINTS_ONLY': True, 'DATA_AUGMENTOR': {'DISABLE_AUG_LIST': ['placeholder'], 'AUG_CONFIG_LIST': [{'NAME': 'gt_sampling', 'USE_ROAD_PLANE': False, 'DB_INFO_PATH': ['kitti_dbinfos_train.pkl'], 'PREPARE': {'filter_by_min_points': ['Car:5', 'Pedestrian:5', 'Cyclist:5'], 'filter_by_difficulty': [-1]}, 'SAMPLE_GROUPS': ['Car:20', 'Pedestrian:15', 'Cyclist:15'], 'NUM_POINT_FEATURES': 4, 'DATABASE_WITH_FAKELIDAR': False, 'REMOVE_EXTRA_WIDTH': [0.0, 0.0, 0.0], 'LIMIT_WHOLE_SCENE': True}, {'NAME': 'random_world_flip', 'ALONG_AXIS_LIST': ['x']}, {'NAME': 'random_world_rotation', 'WORLD_ROT_ANGLE': [-0.78539816, 0.78539816]}, {'NAME': 'random_world_scaling', 'WORLD_SCALE_RANGE': [0.95, 1.05]}]}, 'POINT_FEATURE_ENCODING': {'encoding_type': 'absolute_coordinates_encoding', 'used_feature_list': ['x', 'y', 'z', 'intensity'], 'src_feature_list': ['x', 'y', 'z', 'intensity']}, 'DATA_PROCESSOR': [{'NAME': 'mask_points_and_boxes_outside_range', 'REMOVE_OUTSIDE_BOXES': True}, {'NAME': 'shuffle_points', 'SHUFFLE_ENABLED': {'train': True, 'test': False}}, {'NAME': 'transform_points_to_voxels', 'VOXEL_SIZE': [0.05, 0.05, 0.1], 'MAX_POINTS_PER_VOXEL': 5, 'MAX_NUMBER_OF_VOXELS': {'train': 16000, 'test': 40000}}]}"
      ]
     },
     "execution_count": 9,
     "metadata": {},
     "output_type": "execute_result"
    }
   ],
   "source": [
    "dataset_cfg"
   ]
  },
  {
   "cell_type": "code",
   "execution_count": 38,
   "metadata": {},
   "outputs": [
    {
     "data": {
      "text/plain": [
       "'train'"
      ]
     },
     "execution_count": 38,
     "metadata": {},
     "output_type": "execute_result"
    }
   ],
   "source": [
    "dataset_cfg.DATA_SPLIT.train"
   ]
  },
  {
   "cell_type": "code",
   "execution_count": null,
   "metadata": {},
   "outputs": [],
   "source": [
    "class rui:\n",
    "    def __init__(self) -> None:\n",
    "        pass\n",
    "\n",
    "    def shengao():\n",
    "        "
   ]
  },
  {
   "cell_type": "code",
   "execution_count": null,
   "metadata": {},
   "outputs": [],
   "source": []
  }
 ],
 "metadata": {
  "kernelspec": {
   "display_name": "openpcdet_1",
   "language": "python",
   "name": "python3"
  },
  "language_info": {
   "codemirror_mode": {
    "name": "ipython",
    "version": 3
   },
   "file_extension": ".py",
   "mimetype": "text/x-python",
   "name": "python",
   "nbconvert_exporter": "python",
   "pygments_lexer": "ipython3",
   "version": "3.8.0"
  },
  "orig_nbformat": 4
 },
 "nbformat": 4,
 "nbformat_minor": 2
}
